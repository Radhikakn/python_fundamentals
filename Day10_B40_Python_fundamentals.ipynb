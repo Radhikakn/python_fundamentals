{
 "cells": [
  {
   "cell_type": "code",
   "execution_count": null,
   "metadata": {},
   "outputs": [],
   "source": [
    "#Classes in Python"
   ]
  },
  {
   "cell_type": "code",
   "execution_count": 10,
   "metadata": {},
   "outputs": [],
   "source": [
    "#Without constructor\n",
    "class Greet:    #Class declaration\n",
    "    \"\"\"creating a class to greet the user\"\"\"\n",
    "    def createuser(self,username):   #method create user to accept username. self is important\n",
    "        self.username=username        \n",
    "    def displayuser(self):          #method to display username\n",
    "        print(self.username)\n",
    "    def greetuser(self):    #method to greet the user\n",
    "        print(f\"Hello,{self.username.title()}\")\n",
    "        "
   ]
  },
  {
   "cell_type": "code",
   "execution_count": 11,
   "metadata": {},
   "outputs": [],
   "source": [
    "test=Greet()  # Object assignment"
   ]
  },
  {
   "cell_type": "code",
   "execution_count": 12,
   "metadata": {},
   "outputs": [],
   "source": [
    "test.createuser('radhika')"
   ]
  },
  {
   "cell_type": "code",
   "execution_count": 13,
   "metadata": {},
   "outputs": [
    {
     "name": "stdout",
     "output_type": "stream",
     "text": [
      "radhika\n",
      "Hello,Radhika\n"
     ]
    }
   ],
   "source": [
    "test.displayuser()\n",
    "test.greetuser()"
   ]
  },
  {
   "cell_type": "code",
   "execution_count": 16,
   "metadata": {},
   "outputs": [
    {
     "name": "stdout",
     "output_type": "stream",
     "text": [
      "Hello,Ravi\n"
     ]
    }
   ],
   "source": [
    "obj=Greet()  #Can have any number objects for a single class\n",
    "obj.createuser('ravi')\n",
    "obj.greetuser()"
   ]
  },
  {
   "cell_type": "code",
   "execution_count": null,
   "metadata": {},
   "outputs": [],
   "source": [
    "#Class using constructor.. __init__()-->initialize methods and attributes"
   ]
  },
  {
   "cell_type": "code",
   "execution_count": 19,
   "metadata": {},
   "outputs": [],
   "source": [
    "class Dog:                                                #Declaration\n",
    "    def __init__(self,name,age):                           #initialize method to assign values to name and age\n",
    "        self.name=name\n",
    "        self.age=age\n",
    "        print(\"this executes automatically\")\n",
    "    def sit(self):                                       #method 1\n",
    "        print(f\"{self.name} is sitting\")\n",
    "    def rollover(self):                                  #method 2\n",
    "        print(f\"{self.name} is rolling over\")\n",
    "    def details(self):                                   #method 3\n",
    "        print(f\"dog's name is {self.name}\")\n",
    "        print(f\"{self.name} is {self.age} years old\")"
   ]
  },
  {
   "cell_type": "code",
   "execution_count": 20,
   "metadata": {},
   "outputs": [
    {
     "name": "stdout",
     "output_type": "stream",
     "text": [
      "this executes automatically\n"
     ]
    }
   ],
   "source": [
    "mydog=Dog('Bruno',2)   #We can create the object and assign the values at the same time if we are using __init__()method"
   ]
  },
  {
   "cell_type": "code",
   "execution_count": 21,
   "metadata": {},
   "outputs": [
    {
     "name": "stdout",
     "output_type": "stream",
     "text": [
      "Bruno is sitting\n",
      "Bruno is rolling over\n",
      "dog's name is Bruno\n",
      "Bruno is 2 years old\n"
     ]
    }
   ],
   "source": [
    "mydog.sit()\n",
    "mydog.rollover()\n",
    "mydog.details()"
   ]
  },
  {
   "cell_type": "code",
   "execution_count": null,
   "metadata": {},
   "outputs": [],
   "source": []
  },
  {
   "cell_type": "code",
   "execution_count": null,
   "metadata": {},
   "outputs": [],
   "source": []
  },
  {
   "cell_type": "code",
   "execution_count": null,
   "metadata": {},
   "outputs": [],
   "source": []
  },
  {
   "cell_type": "code",
   "execution_count": null,
   "metadata": {},
   "outputs": [],
   "source": []
  }
 ],
 "metadata": {
  "kernelspec": {
   "display_name": "Python 3",
   "language": "python",
   "name": "python3"
  },
  "language_info": {
   "codemirror_mode": {
    "name": "ipython",
    "version": 3
   },
   "file_extension": ".py",
   "mimetype": "text/x-python",
   "name": "python",
   "nbconvert_exporter": "python",
   "pygments_lexer": "ipython3",
   "version": "3.6.11"
  }
 },
 "nbformat": 4,
 "nbformat_minor": 4
}
