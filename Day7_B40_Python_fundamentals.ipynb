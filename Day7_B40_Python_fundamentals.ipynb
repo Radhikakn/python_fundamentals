{
 "cells": [
  {
   "cell_type": "code",
   "execution_count": 2,
   "id": "assisted-beach",
   "metadata": {},
   "outputs": [
    {
     "name": "stdout",
     "output_type": "stream",
     "text": [
      "<class 'list'>\n",
      "<class 'set'>\n",
      "<class 'tuple'>\n"
     ]
    }
   ],
   "source": [
    "studentslist=['karthik','shaza','priyanka','naveen','ravi','afsha','bhavana']\n",
    "students={'karthik','shaza','priyanka','naveen','ravi','afsha','bhavana'}\n",
    "studentstuple=('karthik','shaza','priyanka','naveen','ravi','afsha','bhavana')\n",
    "print(type(studentslist))\n",
    "print(type(students))\n",
    "print(type(studentstuple))"
   ]
  },
  {
   "cell_type": "code",
   "execution_count": 3,
   "id": "chinese-coaching",
   "metadata": {},
   "outputs": [
    {
     "data": {
      "text/plain": [
       "('karthik', 'shaza', 'priyanka', 'naveen', 'ravi', 'afsha', 'bhavana')"
      ]
     },
     "execution_count": 3,
     "metadata": {},
     "output_type": "execute_result"
    }
   ],
   "source": [
    "studentstuple=('karthik','shaza','priyanka','naveen','ravi','afsha','bhavana')\n",
    "studentstuple"
   ]
  },
  {
   "cell_type": "code",
   "execution_count": 4,
   "id": "large-feature",
   "metadata": {},
   "outputs": [
    {
     "data": {
      "text/plain": [
       "tuple"
      ]
     },
     "execution_count": 4,
     "metadata": {},
     "output_type": "execute_result"
    }
   ],
   "source": [
    "type(studentstuple)"
   ]
  },
  {
   "cell_type": "code",
   "execution_count": 5,
   "id": "formed-zambia",
   "metadata": {},
   "outputs": [
    {
     "ename": "TypeError",
     "evalue": "'tuple' object does not support item assignment",
     "output_type": "error",
     "traceback": [
      "\u001b[0;31m---------------------------------------------------------------------------\u001b[0m",
      "\u001b[0;31mTypeError\u001b[0m                                 Traceback (most recent call last)",
      "\u001b[0;32m<ipython-input-5-d49ffc19dce7>\u001b[0m in \u001b[0;36m<module>\u001b[0;34m\u001b[0m\n\u001b[0;32m----> 1\u001b[0;31m \u001b[0mstudentstuple\u001b[0m\u001b[0;34m[\u001b[0m\u001b[0;36m1\u001b[0m\u001b[0;34m]\u001b[0m\u001b[0;34m=\u001b[0m\u001b[0;34m'radhika'\u001b[0m\u001b[0;34m\u001b[0m\u001b[0;34m\u001b[0m\u001b[0m\n\u001b[0m",
      "\u001b[0;31mTypeError\u001b[0m: 'tuple' object does not support item assignment"
     ]
    }
   ],
   "source": [
    "studentstuple[1]='radhika'"
   ]
  },
  {
   "cell_type": "code",
   "execution_count": 8,
   "id": "average-sellers",
   "metadata": {},
   "outputs": [
    {
     "name": "stdout",
     "output_type": "stream",
     "text": [
      "<class 'tuple'>\n",
      "(250, 50)\n"
     ]
    }
   ],
   "source": [
    "dimensions=(250,50)\n",
    "print(type(dimensions))\n",
    "print(dimensions)"
   ]
  },
  {
   "cell_type": "markdown",
   "id": "constitutional-commodity",
   "metadata": {},
   "source": []
  },
  {
   "cell_type": "code",
   "execution_count": 10,
   "id": "oriented-nutrition",
   "metadata": {},
   "outputs": [
    {
     "name": "stdout",
     "output_type": "stream",
     "text": [
      "(250, 50)\n"
     ]
    }
   ],
   "source": [
    "dimensions=(300,100) \n",
    "dimensions=(250,50)\n",
    "print(dimensions)"
   ]
  },
  {
   "cell_type": "code",
   "execution_count": 13,
   "id": "italian-boxing",
   "metadata": {},
   "outputs": [
    {
     "name": "stdout",
     "output_type": "stream",
     "text": [
      "('karthik', 'shaza', 'priyanka', 'naveen', 'ravi', 'afsha', 'bhavana')\n"
     ]
    }
   ],
   "source": [
    "students=('karthik','shaza','priyanka','naveen','ravi','afsha','bhavana')\n",
    "print(students)"
   ]
  },
  {
   "cell_type": "code",
   "execution_count": 14,
   "id": "violent-nirvana",
   "metadata": {},
   "outputs": [
    {
     "name": "stdout",
     "output_type": "stream",
     "text": [
      "karthik\n",
      "shaza\n",
      "priyanka\n",
      "naveen\n",
      "ravi\n",
      "afsha\n",
      "bhavana\n"
     ]
    }
   ],
   "source": [
    "for x in students:\n",
    "    print(x)"
   ]
  },
  {
   "cell_type": "code",
   "execution_count": 15,
   "id": "prospective-surgery",
   "metadata": {},
   "outputs": [
    {
     "name": "stdout",
     "output_type": "stream",
     "text": [
      "<class 'dict'>\n",
      "{'color': 'green', 'point': 5}\n"
     ]
    }
   ],
   "source": [
    "#Dictionary\n",
    "alien={'color':'green','point':5}\n",
    "print(type(alien))\n",
    "print(alien)"
   ]
  },
  {
   "cell_type": "code",
   "execution_count": 16,
   "id": "different-chosen",
   "metadata": {},
   "outputs": [],
   "source": [
    "alien['start position']=0 #Append the value"
   ]
  },
  {
   "cell_type": "code",
   "execution_count": 17,
   "id": "reported-phenomenon",
   "metadata": {},
   "outputs": [
    {
     "name": "stdout",
     "output_type": "stream",
     "text": [
      "{'color': 'green', 'point': 5, 'start position': 0}\n"
     ]
    }
   ],
   "source": [
    "print(alien)"
   ]
  },
  {
   "cell_type": "code",
   "execution_count": 18,
   "id": "average-fortune",
   "metadata": {},
   "outputs": [],
   "source": [
    "useraccount={'username':'codetraining01','firstname':'code','lastname':'training01','dob':'01-01-2019','pwd':'1234'}"
   ]
  },
  {
   "cell_type": "code",
   "execution_count": 19,
   "id": "damaged-convertible",
   "metadata": {},
   "outputs": [
    {
     "name": "stdout",
     "output_type": "stream",
     "text": [
      "{'username': 'codetraining01', 'firstname': 'code', 'lastname': 'training01', 'dob': '01-01-2019', 'pwd': '1234'}\n"
     ]
    }
   ],
   "source": [
    "print(useraccount)"
   ]
  },
  {
   "cell_type": "code",
   "execution_count": 20,
   "id": "arctic-friendship",
   "metadata": {},
   "outputs": [
    {
     "name": "stdout",
     "output_type": "stream",
     "text": [
      "codetraining01\n"
     ]
    }
   ],
   "source": [
    "print(useraccount['username'])"
   ]
  },
  {
   "cell_type": "code",
   "execution_count": 22,
   "id": "external-class",
   "metadata": {},
   "outputs": [
    {
     "name": "stdout",
     "output_type": "stream",
     "text": [
      "01-01-2019\n"
     ]
    }
   ],
   "source": [
    "print(useraccount['dob'])"
   ]
  },
  {
   "cell_type": "code",
   "execution_count": null,
   "id": "technological-cooper",
   "metadata": {},
   "outputs": [],
   "source": []
  }
 ],
 "metadata": {
  "kernelspec": {
   "display_name": "Python 3",
   "language": "python",
   "name": "python3"
  },
  "language_info": {
   "codemirror_mode": {
    "name": "ipython",
    "version": 3
   },
   "file_extension": ".py",
   "mimetype": "text/x-python",
   "name": "python",
   "nbconvert_exporter": "python",
   "pygments_lexer": "ipython3",
   "version": "3.6.13"
  }
 },
 "nbformat": 4,
 "nbformat_minor": 5
}
