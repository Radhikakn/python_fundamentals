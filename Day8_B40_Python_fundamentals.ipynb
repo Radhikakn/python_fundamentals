{
 "cells": [
  {
   "cell_type": "code",
   "execution_count": 1,
   "id": "compact-garden",
   "metadata": {},
   "outputs": [
    {
     "data": {
      "text/plain": [
       "{'color': 'green', 'point': 5, 'start position': 0}"
      ]
     },
     "execution_count": 1,
     "metadata": {},
     "output_type": "execute_result"
    }
   ],
   "source": [
    "alien={'color': 'green', 'point': 5, 'start position': 0}\n",
    "alien"
   ]
  },
  {
   "cell_type": "code",
   "execution_count": 2,
   "id": "alone-suicide",
   "metadata": {},
   "outputs": [
    {
     "data": {
      "text/plain": [
       "dict"
      ]
     },
     "execution_count": 2,
     "metadata": {},
     "output_type": "execute_result"
    }
   ],
   "source": [
    "type(alien)"
   ]
  },
  {
   "cell_type": "code",
   "execution_count": 4,
   "id": "final-behalf",
   "metadata": {},
   "outputs": [],
   "source": [
    "alien['current_position']=15"
   ]
  },
  {
   "cell_type": "code",
   "execution_count": 5,
   "id": "correct-stable",
   "metadata": {},
   "outputs": [
    {
     "data": {
      "text/plain": [
       "{'color': 'green', 'point': 5, 'start position': 0, 'current_position': 15}"
      ]
     },
     "execution_count": 5,
     "metadata": {},
     "output_type": "execute_result"
    }
   ],
   "source": [
    "alien"
   ]
  },
  {
   "cell_type": "code",
   "execution_count": 10,
   "id": "behavioral-pontiac",
   "metadata": {},
   "outputs": [
    {
     "name": "stdout",
     "output_type": "stream",
     "text": [
      "key:color\n",
      "value:green\n",
      "\n",
      "key:point\n",
      "value:5\n",
      "\n",
      "key:start position\n",
      "value:0\n",
      "\n",
      "key:current_position\n",
      "value:15\n",
      "\n"
     ]
    }
   ],
   "source": [
    "for a,b in alien.items():                #To Print the dictionary\n",
    "    print(f\"key:{a}\")\n",
    "    print(f\"value:{b}\\n\")"
   ]
  },
  {
   "cell_type": "code",
   "execution_count": 11,
   "id": "atlantic-timeline",
   "metadata": {},
   "outputs": [
    {
     "name": "stdout",
     "output_type": "stream",
     "text": [
      "color\n",
      "point\n",
      "start position\n",
      "current_position\n"
     ]
    }
   ],
   "source": [
    "for a in alien.keys():  #To print only keys from the dictionary\n",
    "    print(a)"
   ]
  },
  {
   "cell_type": "code",
   "execution_count": 20,
   "id": "inclusive-windows",
   "metadata": {},
   "outputs": [
    {
     "name": "stdout",
     "output_type": "stream",
     "text": [
      "green\n",
      "5\n",
      "0\n",
      "15\n"
     ]
    }
   ],
   "source": [
    "for b in alien.values():  #To print only values from the dicctionary\n",
    "    print(b)"
   ]
  },
  {
   "cell_type": "code",
   "execution_count": null,
   "id": "dedicated-rugby",
   "metadata": {},
   "outputs": [],
   "source": [
    "#Conditional Statement"
   ]
  },
  {
   "cell_type": "code",
   "execution_count": 22,
   "id": "related-basketball",
   "metadata": {},
   "outputs": [
    {
     "name": "stdout",
     "output_type": "stream",
     "text": [
      "You are Not Eligible to vote\n"
     ]
    }
   ],
   "source": [
    "#to check whether a person is eligible to vote based on the age provided\n",
    "age=16\n",
    "if age>=18:\n",
    "    print(\"you are eligible to vote\")\n",
    "else:\n",
    "    print(\"You are Not Eligible to vote\")"
   ]
  },
  {
   "cell_type": "code",
   "execution_count": 26,
   "id": "packed-representative",
   "metadata": {},
   "outputs": [
    {
     "data": {
      "text/plain": [
       "['toyota', 'Maruti', 'audi', 'kia', 'benz', 'tata', 'bmw']"
      ]
     },
     "execution_count": 26,
     "metadata": {},
     "output_type": "execute_result"
    }
   ],
   "source": [
    "\n",
    "cars=['toyota','Maruti','audi','kia','benz','tata','bmw']\n",
    "cars"
   ]
  },
  {
   "cell_type": "code",
   "execution_count": 27,
   "id": "excessive-nashville",
   "metadata": {},
   "outputs": [
    {
     "name": "stdout",
     "output_type": "stream",
     "text": [
      "Toyota\n",
      "Maruti\n",
      "Audi\n",
      "Kia\n",
      "Benz\n",
      "Tata\n",
      "BMW\n"
     ]
    }
   ],
   "source": [
    "#Requirement: Print the car names individually and print bmw in upper case and others in title case\n",
    "for i in cars:\n",
    "    if(i==\"bmw\"):\n",
    "        print(i.upper())\n",
    "    else:\n",
    "        print(i.title())"
   ]
  },
  {
   "cell_type": "code",
   "execution_count": null,
   "id": "hispanic-bottom",
   "metadata": {},
   "outputs": [],
   "source": []
  },
  {
   "cell_type": "code",
   "execution_count": null,
   "id": "further-vanilla",
   "metadata": {},
   "outputs": [],
   "source": []
  },
  {
   "cell_type": "code",
   "execution_count": null,
   "id": "modern-quarter",
   "metadata": {},
   "outputs": [],
   "source": []
  },
  {
   "cell_type": "code",
   "execution_count": null,
   "id": "shaped-carry",
   "metadata": {},
   "outputs": [],
   "source": []
  }
 ],
 "metadata": {
  "kernelspec": {
   "display_name": "Python 3",
   "language": "python",
   "name": "python3"
  },
  "language_info": {
   "codemirror_mode": {
    "name": "ipython",
    "version": 3
   },
   "file_extension": ".py",
   "mimetype": "text/x-python",
   "name": "python",
   "nbconvert_exporter": "python",
   "pygments_lexer": "ipython3",
   "version": "3.6.13"
  }
 },
 "nbformat": 4,
 "nbformat_minor": 5
}
