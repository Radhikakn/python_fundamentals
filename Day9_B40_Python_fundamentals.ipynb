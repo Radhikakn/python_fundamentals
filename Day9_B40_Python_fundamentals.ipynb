{
 "cells": [
  {
   "cell_type": "code",
   "execution_count": null,
   "id": "fatty-membrane",
   "metadata": {},
   "outputs": [],
   "source": [
    "#Functions in python"
   ]
  },
  {
   "cell_type": "code",
   "execution_count": 1,
   "id": "desirable-stable",
   "metadata": {},
   "outputs": [],
   "source": [
    "def greet():   #define the function using def keyword followed by function namee in small letters\n",
    "    \"\"\"Creating a function to greet user\"\"\"  #\"\"\"this is docstring. For commenting inside a function\"\"\"\n",
    "    print(\"Hello\")"
   ]
  },
  {
   "cell_type": "raw",
   "id": "serial-mineral",
   "metadata": {},
   "source": []
  },
  {
   "cell_type": "code",
   "execution_count": 2,
   "id": "sweet-romantic",
   "metadata": {},
   "outputs": [
    {
     "name": "stdout",
     "output_type": "stream",
     "text": [
      "Hello\n"
     ]
    }
   ],
   "source": [
    "greet()"
   ]
  },
  {
   "cell_type": "code",
   "execution_count": 5,
   "id": "modified-glance",
   "metadata": {},
   "outputs": [],
   "source": [
    "def greet(user):  #user is the PARAMETER. here we are passing a parameter while declaring the function\n",
    "    print(f\"Hello,{user.title()}\")"
   ]
  },
  {
   "cell_type": "code",
   "execution_count": 6,
   "id": "lovely-sequence",
   "metadata": {},
   "outputs": [
    {
     "name": "stdout",
     "output_type": "stream",
     "text": [
      "Hello,Radhika\n"
     ]
    }
   ],
   "source": [
    "greet('radhika') #Passing the ARGUMENT during function call "
   ]
  },
  {
   "cell_type": "code",
   "execution_count": null,
   "id": "polyphonic-cruise",
   "metadata": {},
   "outputs": [],
   "source": [
    "#value passed during the function declaration --> Parameter\n",
    "#value passed during the function call --> Argument\n"
   ]
  },
  {
   "cell_type": "code",
   "execution_count": 9,
   "id": "antique-success",
   "metadata": {},
   "outputs": [
    {
     "name": "stdout",
     "output_type": "stream",
     "text": [
      "Hello,radhika\n",
      "bye\n",
      "\n",
      "Hello,ramzi\n",
      "bye\n",
      "\n"
     ]
    }
   ],
   "source": [
    "def greet(user):  \n",
    "    print(f\"Hello,{user}\")\n",
    "    print(\"bye\\n\")\n",
    "greet('radhika')\n",
    "greet('ramzi')"
   ]
  },
  {
   "cell_type": "code",
   "execution_count": 13,
   "id": "other-cycling",
   "metadata": {},
   "outputs": [
    {
     "name": "stdout",
     "output_type": "stream",
     "text": [
      "I have a pet cat\n",
      "My cat's name is snowbell\n",
      "I have a pet scooby\n",
      "My scooby's name is dog\n"
     ]
    }
   ],
   "source": [
    "#Types of Arguments\n",
    "#1.Postional argument --> Position of the parameter matters. Otherwise output will be meaningless\n",
    "def describe_pet(animal_type,pet_name):\n",
    "    print(f\"I have a pet {animal_type}\")\n",
    "    print(f\"My {animal_type}'s name is {pet_name}\")\n",
    "    \n",
    "describe_pet('cat','snowbell')   #meaningful function call\n",
    "describe_pet('scooby','dog')     #meaningless call since the position of the parameter is different\n"
   ]
  },
  {
   "cell_type": "code",
   "execution_count": 14,
   "id": "mexican-hostel",
   "metadata": {},
   "outputs": [
    {
     "name": "stdout",
     "output_type": "stream",
     "text": [
      "I have a pet dog\n",
      "My dog's name is scooby\n"
     ]
    }
   ],
   "source": [
    "#2Keyword Aruments-> If we are not sure about the position of the parameter, we can assign values to keyword while function call\n",
    "def describe_pet(animal_type,pet_name):\n",
    "    print(f\"I have a pet {animal_type}\")\n",
    "    print(f\"My {animal_type}'s name is {pet_name}\")\n",
    "    \n",
    "describe_pet(pet_name='scooby',animal_type='dog')   #meaningful function call with different positions"
   ]
  },
  {
   "cell_type": "code",
   "execution_count": 15,
   "id": "inside-gospel",
   "metadata": {},
   "outputs": [
    {
     "ename": "TypeError",
     "evalue": "describe_pet() missing 1 required positional argument: 'pet_name'",
     "output_type": "error",
     "traceback": [
      "\u001b[0;31m---------------------------------------------------------------------------\u001b[0m",
      "\u001b[0;31mTypeError\u001b[0m                                 Traceback (most recent call last)",
      "\u001b[0;32m<ipython-input-15-19a2bc28ed9e>\u001b[0m in \u001b[0;36m<module>\u001b[0;34m\u001b[0m\n\u001b[1;32m      5\u001b[0m     \u001b[0mprint\u001b[0m\u001b[0;34m(\u001b[0m\u001b[0;34mf\"My {animal_type}'s name is {pet_name}\"\u001b[0m\u001b[0;34m)\u001b[0m\u001b[0;34m\u001b[0m\u001b[0;34m\u001b[0m\u001b[0m\n\u001b[1;32m      6\u001b[0m \u001b[0;34m\u001b[0m\u001b[0m\n\u001b[0;32m----> 7\u001b[0;31m \u001b[0mdescribe_pet\u001b[0m\u001b[0;34m(\u001b[0m\u001b[0;34m'cat'\u001b[0m\u001b[0;34m)\u001b[0m   \u001b[0;31m#dunction has 2 parameters and passing only 1 argument-->error\u001b[0m\u001b[0;34m\u001b[0m\u001b[0;34m\u001b[0m\u001b[0m\n\u001b[0m",
      "\u001b[0;31mTypeError\u001b[0m: describe_pet() missing 1 required positional argument: 'pet_name'"
     ]
    }
   ],
   "source": [
    "#3 Default argument-> If some info is missing, we will assign it a default value. \n",
    "#If the info is missing in function call, it will take default parameter, otherwise it will take passed argument\n",
    "def describe_pet(animal_type,pet_name):\n",
    "    print(f\"I have a pet {animal_type}\")\n",
    "    print(f\"My {animal_type}'s name is {pet_name}\")\n",
    "    \n",
    "describe_pet('cat')   #function has 2 parameters and passing only 1 argument-->error"
   ]
  },
  {
   "cell_type": "code",
   "execution_count": 17,
   "id": "thousand-constant",
   "metadata": {},
   "outputs": [
    {
     "name": "stdout",
     "output_type": "stream",
     "text": [
      "I have a pet cat\n",
      "My cat's name is snowbell\n",
      "I have a pet dog\n",
      "My dog's name is scooby\n"
     ]
    }
   ],
   "source": [
    "def describe_pet(pet_name,animal_type='cat'):   #default argument mst be at the last position\n",
    "    print(f\"I have a pet {animal_type}\")\n",
    "    print(f\"My {animal_type}'s name is {pet_name}\")\n",
    "    \n",
    "describe_pet('snowbell')  #This will take animal type by default cat\n",
    "describe_pet('scooby','dog') #this is take passed argument as animal_type"
   ]
  },
  {
   "cell_type": "code",
   "execution_count": 20,
   "id": "innocent-pilot",
   "metadata": {},
   "outputs": [
    {
     "name": "stdout",
     "output_type": "stream",
     "text": [
      "I have a pet cat\n",
      "My cat's name is snowbell\n",
      "\n",
      "I have a pet dog\n",
      "My dog's name is scooby\n",
      "\n",
      "I have a pet cat\n",
      "My cat's name is mittu\n",
      "\n"
     ]
    }
   ],
   "source": [
    "def describe_pet(pet_name='mittu',animal_type='cat'):   #default argument for all \n",
    "    print(f\"I have a pet {animal_type}\")\n",
    "    print(f\"My {animal_type}'s name is {pet_name}\\n\")\n",
    "    \n",
    "describe_pet('snowbell')  #This will take animal type by default cat\n",
    "describe_pet('scooby','dog') #this is take passed argument as animal_type\n",
    "describe_pet() #This will take two default parameters"
   ]
  },
  {
   "cell_type": "code",
   "execution_count": null,
   "id": "hired-sessions",
   "metadata": {},
   "outputs": [],
   "source": []
  },
  {
   "cell_type": "code",
   "execution_count": null,
   "id": "mature-engine",
   "metadata": {},
   "outputs": [],
   "source": []
  },
  {
   "cell_type": "code",
   "execution_count": null,
   "id": "finnish-functionality",
   "metadata": {},
   "outputs": [],
   "source": []
  },
  {
   "cell_type": "code",
   "execution_count": null,
   "id": "responsible-klein",
   "metadata": {},
   "outputs": [],
   "source": []
  },
  {
   "cell_type": "code",
   "execution_count": null,
   "id": "alpha-walter",
   "metadata": {},
   "outputs": [],
   "source": []
  }
 ],
 "metadata": {
  "kernelspec": {
   "display_name": "Python 3",
   "language": "python",
   "name": "python3"
  },
  "language_info": {
   "codemirror_mode": {
    "name": "ipython",
    "version": 3
   },
   "file_extension": ".py",
   "mimetype": "text/x-python",
   "name": "python",
   "nbconvert_exporter": "python",
   "pygments_lexer": "ipython3",
   "version": "3.6.13"
  }
 },
 "nbformat": 4,
 "nbformat_minor": 5
}
