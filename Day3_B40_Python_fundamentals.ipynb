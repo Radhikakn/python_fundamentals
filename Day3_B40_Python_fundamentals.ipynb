{
 "cells": [
  {
   "cell_type": "code",
   "execution_count": 1,
   "metadata": {},
   "outputs": [
    {
     "name": "stdout",
     "output_type": "stream",
     "text": [
      "radhika\n"
     ]
    }
   ],
   "source": [
    "name=\"Radhika\"\n",
    "print(name.lower()) #to LowerCase"
   ]
  },
  {
   "cell_type": "code",
   "execution_count": 7,
   "metadata": {},
   "outputs": [
    {
     "name": "stdout",
     "output_type": "stream",
     "text": [
      "radhikakn\n",
      "hai,Radhikakn\n"
     ]
    }
   ],
   "source": [
    "firstname='radhika'\n",
    "lastname='kn'\n",
    "fullname= f\"{firstname}{lastname}\"\n",
    "x=f\"hai,{fullname.title()}\" \n",
    "print(fullname)  #f string without customword\n",
    "print(x)         #f string with customword"
   ]
  },
  {
   "cell_type": "code",
   "execution_count": 8,
   "metadata": {},
   "outputs": [
    {
     "name": "stdout",
     "output_type": "stream",
     "text": [
      "Pythoncodetodemonstratedelimitersnextlinetab\n",
      "Python\tcode\ttodemonstrate\tdelimiters\n",
      "nextline\n",
      "tab\n"
     ]
    }
   ],
   "source": [
    "print(\"Pythoncodetodemonstratedelimitersnextlinetab\")\n",
    "print(\"Python\\tcode\\ttodemonstrate\\tdelimiters\\nnextline\\ntab\")\n"
   ]
  },
  {
   "cell_type": "code",
   "execution_count": 12,
   "metadata": {},
   "outputs": [
    {
     "name": "stdout",
     "output_type": "stream",
     "text": [
      "football\n",
      " football\n",
      "football\n",
      "football \n",
      "football\n",
      " football \n",
      "football\n"
     ]
    }
   ],
   "source": [
    "name1='football'\n",
    "name2=\" football\"\n",
    "name3='football '\n",
    "name4=' football '\n",
    "print(name1)\n",
    "print(name2)\n",
    "print(name2.lstrip()) #removing space on left\n",
    "print(name3)\n",
    "print(name3.rstrip()) #removing space on right\n",
    "print(name4)\n",
    "print(name4.strip()) #removing space on both left and right"
   ]
  },
  {
   "cell_type": "code",
   "execution_count": 13,
   "metadata": {},
   "outputs": [
    {
     "name": "stdout",
     "output_type": "stream",
     "text": [
      "football\n"
     ]
    }
   ],
   "source": [
    "print(name2.lstrip())"
   ]
  },
  {
   "cell_type": "code",
   "execution_count": null,
   "metadata": {},
   "outputs": [],
   "source": []
  }
 ],
 "metadata": {
  "kernelspec": {
   "display_name": "Python 3",
   "language": "python",
   "name": "python3"
  },
  "language_info": {
   "codemirror_mode": {
    "name": "ipython",
    "version": 3
   },
   "file_extension": ".py",
   "mimetype": "text/x-python",
   "name": "python",
   "nbconvert_exporter": "python",
   "pygments_lexer": "ipython3",
   "version": "3.6.11"
  }
 },
 "nbformat": 4,
 "nbformat_minor": 4
}
