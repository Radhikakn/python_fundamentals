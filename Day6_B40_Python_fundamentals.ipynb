{
 "cells": [
  {
   "cell_type": "code",
   "execution_count": null,
   "id": "powered-quality",
   "metadata": {},
   "outputs": [],
   "source": [
    "# 'for' loops"
   ]
  },
  {
   "cell_type": "code",
   "execution_count": 2,
   "id": "welsh-lover",
   "metadata": {},
   "outputs": [
    {
     "data": {
      "text/plain": [
       "['karthik', 'shaza', 'priyanka', 'naveen', 'ravi', 'afsha', 'bhavana']"
      ]
     },
     "execution_count": 2,
     "metadata": {},
     "output_type": "execute_result"
    }
   ],
   "source": [
    "students=['karthik','shaza','priyanka','naveen','ravi','afsha','bhavana']\n",
    "students"
   ]
  },
  {
   "cell_type": "code",
   "execution_count": 6,
   "id": "included-elephant",
   "metadata": {},
   "outputs": [
    {
     "name": "stdout",
     "output_type": "stream",
     "text": [
      " Thank you, Naveen\n"
     ]
    }
   ],
   "source": [
    "print(f\" Thank you, {students[3].title()}\")"
   ]
  },
  {
   "cell_type": "code",
   "execution_count": 9,
   "id": "related-manufacturer",
   "metadata": {},
   "outputs": [
    {
     "name": "stdout",
     "output_type": "stream",
     "text": [
      " Thank you, Naveen\n"
     ]
    }
   ],
   "source": [
    "print(\" Thank you,\", students[3].title())"
   ]
  },
  {
   "cell_type": "code",
   "execution_count": 11,
   "id": "departmental-algorithm",
   "metadata": {},
   "outputs": [
    {
     "name": "stdout",
     "output_type": "stream",
     "text": [
      "karthik\n",
      "Thank you, Karthik\n",
      "\n",
      "shaza\n",
      "Thank you, Shaza\n",
      "\n",
      "priyanka\n",
      "Thank you, Priyanka\n",
      "\n",
      "naveen\n",
      "Thank you, Naveen\n",
      "\n",
      "ravi\n",
      "Thank you, Ravi\n",
      "\n",
      "afsha\n",
      "Thank you, Afsha\n",
      "\n",
      "bhavana\n",
      "Thank you, Bhavana\n",
      "\n"
     ]
    }
   ],
   "source": [
    "for x in students:\n",
    "    print(x)\n",
    "    print(f\"Thank you, {x.title()}\\n\")"
   ]
  },
  {
   "cell_type": "code",
   "execution_count": 12,
   "id": "greek-receiver",
   "metadata": {},
   "outputs": [
    {
     "name": "stdout",
     "output_type": "stream",
     "text": [
      "karthik\n",
      "Thank you, Karthik\n",
      "\n",
      "shaza\n",
      "Thank you, Shaza\n",
      "\n",
      "priyanka\n",
      "Thank you, Priyanka\n",
      "\n",
      "naveen\n",
      "Thank you, Naveen\n",
      "\n",
      "ravi\n",
      "Thank you, Ravi\n",
      "\n",
      "afsha\n",
      "Thank you, Afsha\n",
      "\n",
      "bhavana\n",
      "Thank you, Bhavana\n",
      "\n",
      "bye\n"
     ]
    }
   ],
   "source": [
    "for x in students:\n",
    "    print(x)\n",
    "    print(f\"Thank you, {x.title()}\\n\")\n",
    "print(\"bye\")"
   ]
  },
  {
   "cell_type": "code",
   "execution_count": 19,
   "id": "permanent-intranet",
   "metadata": {},
   "outputs": [
    {
     "name": "stdout",
     "output_type": "stream",
     "text": [
      "karthik\n",
      "shaza\n",
      "priyanka\n",
      "naveen\n",
      "ravi\n",
      "afsha\n",
      "bhavana\n"
     ]
    }
   ],
   "source": [
    "for i in students:#correct indent\n",
    "    print(i)\n",
    "    "
   ]
  },
  {
   "cell_type": "code",
   "execution_count": 20,
   "id": "alternate-pocket",
   "metadata": {},
   "outputs": [
    {
     "ename": "IndentationError",
     "evalue": "expected an indented block (<ipython-input-20-31a8d3cfdd4d>, line 2)",
     "output_type": "error",
     "traceback": [
      "\u001b[0;36m  File \u001b[0;32m\"<ipython-input-20-31a8d3cfdd4d>\"\u001b[0;36m, line \u001b[0;32m2\u001b[0m\n\u001b[0;31m    print(i)\u001b[0m\n\u001b[0m        ^\u001b[0m\n\u001b[0;31mIndentationError\u001b[0m\u001b[0;31m:\u001b[0m expected an indented block\n"
     ]
    }
   ],
   "source": [
    "for i in students: #indentation is important in python.... incorrect indent\n",
    "print(i)\n",
    "    "
   ]
  },
  {
   "cell_type": "code",
   "execution_count": 25,
   "id": "korean-florence",
   "metadata": {},
   "outputs": [
    {
     "name": "stdout",
     "output_type": "stream",
     "text": [
      "[2, 4, 6, 8, 10, 12, 14, 16, 18]\n"
     ]
    },
    {
     "data": {
      "text/plain": [
       "[1, 3, 5, 7, 9, 11, 13, 15, 17, 19]"
      ]
     },
     "execution_count": 25,
     "metadata": {},
     "output_type": "execute_result"
    }
   ],
   "source": [
    "#range() function \n",
    "#syntax: range(startvalue,stopvalue,stepcount) -->here,stopvalue is exclusive\n",
    "odd=list(range(1,20,2))\n",
    "even=list(range(2,20,2))\n",
    "print(even)\n",
    "odd"
   ]
  },
  {
   "cell_type": "code",
   "execution_count": 26,
   "id": "distant-regard",
   "metadata": {},
   "outputs": [
    {
     "name": "stdout",
     "output_type": "stream",
     "text": [
      "0\n",
      "1\n",
      "2\n",
      "3\n",
      "4\n",
      "5\n"
     ]
    }
   ],
   "source": [
    "x = range(6)\n",
    "for n in x:\n",
    "  print(n)"
   ]
  },
  {
   "cell_type": "code",
   "execution_count": null,
   "id": "changing-surgeon",
   "metadata": {},
   "outputs": [],
   "source": []
  }
 ],
 "metadata": {
  "kernelspec": {
   "display_name": "Python 3",
   "language": "python",
   "name": "python3"
  },
  "language_info": {
   "codemirror_mode": {
    "name": "ipython",
    "version": 3
   },
   "file_extension": ".py",
   "mimetype": "text/x-python",
   "name": "python",
   "nbconvert_exporter": "python",
   "pygments_lexer": "ipython3",
   "version": "3.6.13"
  }
 },
 "nbformat": 4,
 "nbformat_minor": 5
}
